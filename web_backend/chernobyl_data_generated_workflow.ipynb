{
 "cells": [
  {
   "cell_type": "markdown",
   "id": "60c67c7d",
   "metadata": {},
   "source": [
    "Load data from file. Show data information and few rows."
   ]
  },
  {
   "cell_type": "code",
   "execution_count": 32,
   "id": "a044e9dd",
   "metadata": {
    "scrolled": true
   },
   "outputs": [
    {
     "name": "stdout",
     "output_type": "stream",
     "text": [
      "<class 'pandas.core.frame.DataFrame'>\n",
      "RangeIndex: 2051 entries, 0 to 2050\n",
      "Data columns (total 11 columns):\n",
      " #   Column           Non-Null Count  Dtype  \n",
      "---  ------           --------------  -----  \n",
      " 0   PAYS             2051 non-null   object \n",
      " 1   Code             2051 non-null   int64  \n",
      " 2   Ville            2051 non-null   object \n",
      " 3   X                2051 non-null   float64\n",
      " 4   Y                2051 non-null   float64\n",
      " 5   Date             2051 non-null   object \n",
      " 6   End_of_sampling  2051 non-null   object \n",
      " 7   Duration(h.min)  2051 non-null   float64\n",
      " 8   I_131_(Bq/m3)    2051 non-null   object \n",
      " 9   Cs_134_(Bq/m3)   2051 non-null   object \n",
      " 10  Cs_137_(Bq/m3)   2051 non-null   object \n",
      "dtypes: float64(3), int64(1), object(7)\n",
      "memory usage: 176.4+ KB\n",
      "None\n",
      "  PAYS  Code  Ville      X     Y      Date End_of_sampling  Duration(h.min)  \\\n",
      "0   SE     1  RISOE  12.07  55.7  86/04/27        24:00:00             24.0   \n",
      "1   SE     1  RISOE  12.07  55.7  86/04/28        24:00:00             24.0   \n",
      "2   SE     1  RISOE  12.07  55.7  86/04/29           12:00             12.0   \n",
      "3   SE     1  RISOE  12.07  55.7  86/04/29        24:00:00             12.0   \n",
      "4   SE     1  RISOE  12.07  55.7  86/04/30        24:00:00             24.0   \n",
      "\n",
      "  I_131_(Bq/m3) Cs_134_(Bq/m3) Cs_137_(Bq/m3)  \n",
      "0             1              0           0.24  \n",
      "1        0.0046        0.00054        0.00098  \n",
      "2        0.0147         0.0043         0.0074  \n",
      "3       0.00061              0        0.00009  \n",
      "4       0.00075         0.0001        0.00028  \n"
     ]
    }
   ],
   "source": [
    "import pandas as pd\n",
    "\n",
    "# Load data from file\n",
    "data = pd.read_csv(\"../kaggle/kernels_train/stpeteishii/radioactivity-change-after-the-chernobyl-disaster/data.csv\")\n",
    "\n",
    "# Show data information\n",
    "print(data.info())\n",
    "\n",
    "# Show first few rows of data\n",
    "print(data.head()) \n"
   ]
  },
  {
   "cell_type": "markdown",
   "id": "9291bf67",
   "metadata": {},
   "source": [
    "Convert Date columns to datetime format."
   ]
  },
  {
   "cell_type": "code",
   "execution_count": 33,
   "id": "db26ef44",
   "metadata": {
    "scrolled": true
   },
   "outputs": [
    {
     "name": "stdout",
     "output_type": "stream",
     "text": [
      "<class 'pandas.core.frame.DataFrame'>\n",
      "RangeIndex: 2051 entries, 0 to 2050\n",
      "Data columns (total 11 columns):\n",
      " #   Column           Non-Null Count  Dtype         \n",
      "---  ------           --------------  -----         \n",
      " 0   PAYS             2051 non-null   object        \n",
      " 1   Code             2051 non-null   int64         \n",
      " 2   Ville            2051 non-null   object        \n",
      " 3   X                2051 non-null   float64       \n",
      " 4   Y                2051 non-null   float64       \n",
      " 5   Date             2051 non-null   datetime64[ns]\n",
      " 6   End_of_sampling  2051 non-null   object        \n",
      " 7   Duration(h.min)  2051 non-null   float64       \n",
      " 8   I_131_(Bq/m3)    2051 non-null   object        \n",
      " 9   Cs_134_(Bq/m3)   2051 non-null   object        \n",
      " 10  Cs_137_(Bq/m3)   2051 non-null   object        \n",
      "dtypes: datetime64[ns](1), float64(3), int64(1), object(6)\n",
      "memory usage: 176.4+ KB\n",
      "None\n",
      "  PAYS  Code  Ville      X     Y       Date End_of_sampling  Duration(h.min)  \\\n",
      "0   SE     1  RISOE  12.07  55.7 1986-04-27        24:00:00             24.0   \n",
      "1   SE     1  RISOE  12.07  55.7 1986-04-28        24:00:00             24.0   \n",
      "2   SE     1  RISOE  12.07  55.7 1986-04-29           12:00             12.0   \n",
      "3   SE     1  RISOE  12.07  55.7 1986-04-29        24:00:00             12.0   \n",
      "4   SE     1  RISOE  12.07  55.7 1986-04-30        24:00:00             24.0   \n",
      "\n",
      "  I_131_(Bq/m3) Cs_134_(Bq/m3) Cs_137_(Bq/m3)  \n",
      "0             1              0           0.24  \n",
      "1        0.0046        0.00054        0.00098  \n",
      "2        0.0147         0.0043         0.0074  \n",
      "3       0.00061              0        0.00009  \n",
      "4       0.00075         0.0001        0.00028  \n"
     ]
    }
   ],
   "source": [
    "# Convert Date column to datetime format\n",
    "data['Date'] = pd.to_datetime(data['Date'])\n",
    "\n",
    "# Show updated data information\n",
    "print(data.info())\n",
    "\n",
    "# Show first few rows of updated data\n",
    "print(data.head()) \n"
   ]
  },
  {
   "cell_type": "markdown",
   "id": "80349271",
   "metadata": {},
   "source": [
    "Check for missing values for all columns by isnull() function"
   ]
  },
  {
   "cell_type": "code",
   "execution_count": 34,
   "id": "1c0cad7f",
   "metadata": {
    "scrolled": true
   },
   "outputs": [
    {
     "name": "stdout",
     "output_type": "stream",
     "text": [
      "PAYS               0\n",
      "Code               0\n",
      "Ville              0\n",
      "X                  0\n",
      "Y                  0\n",
      "Date               0\n",
      "End_of_sampling    0\n",
      "Duration(h.min)    0\n",
      "I_131_(Bq/m3)      0\n",
      "Cs_134_(Bq/m3)     0\n",
      "Cs_137_(Bq/m3)     0\n",
      "dtype: int64\n"
     ]
    }
   ],
   "source": [
    "# Check for missing values in all columns\n",
    "print(data.isnull().sum()) \n"
   ]
  },
  {
   "cell_type": "code",
   "execution_count": null,
   "id": "0c738ee1",
   "metadata": {},
   "outputs": [],
   "source": []
  }
 ],
 "metadata": {
  "kernelspec": {
   "display_name": "Python 3 (ipykernel)",
   "language": "python",
   "name": "python3"
  },
  "language_info": {
   "codemirror_mode": {
    "name": "ipython",
    "version": 3
   },
   "file_extension": ".py",
   "mimetype": "text/x-python",
   "name": "python",
   "nbconvert_exporter": "python",
   "pygments_lexer": "ipython3",
   "version": "3.8.0"
  }
 },
 "nbformat": 4,
 "nbformat_minor": 5
}

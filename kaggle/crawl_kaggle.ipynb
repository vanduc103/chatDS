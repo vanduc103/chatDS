{
 "cells": [
  {
   "cell_type": "code",
   "execution_count": 48,
   "id": "5a27b079",
   "metadata": {},
   "outputs": [
    {
     "data": {
      "text/plain": [
       "'levanduc'"
      ]
     },
     "execution_count": 48,
     "metadata": {},
     "output_type": "execute_result"
    }
   ],
   "source": [
    "import kaggle\n",
    "\n",
    "#The API is simplest to access via kaggle.api object. \n",
    "#I will do that for the rest of this notebook, but you could just as well assign it to something shorter if you like\n",
    "#For example:\n",
    "\n",
    "api = kaggle.api\n",
    "api.get_config_value(\"username\")"
   ]
  },
  {
   "cell_type": "code",
   "execution_count": 46,
   "id": "b0afdb5b",
   "metadata": {},
   "outputs": [
    {
     "data": {
      "text/plain": [
       "111"
      ]
     },
     "execution_count": 46,
     "metadata": {},
     "output_type": "execute_result"
    }
   ],
   "source": [
    "import pandas as pd\n",
    "dataset_list = pd.read_csv('datasets_test.csv')\n",
    "len(dataset_list)"
   ]
  },
  {
   "cell_type": "code",
   "execution_count": null,
   "id": "7cec6397",
   "metadata": {
    "scrolled": true
   },
   "outputs": [],
   "source": [
    "# download dataset\n",
    "for i in range(len(dataset_list)):\n",
    "    dataset = dataset_list.iloc[i].ref\n",
    "    import os\n",
    "    # create dataset directory\n",
    "    dataset_path = os.path.join('datasets_train', dataset)\n",
    "    # only download new dataset\n",
    "    if not os.path.exists(dataset_path):\n",
    "        os.makedirs(dataset_path)\n",
    "        # download dataset\n",
    "        try:\n",
    "            kaggle.api.dataset_download_files(dataset=dataset, path=dataset_path, force=True, unzip=True)\n",
    "        except:\n",
    "            print(dataset)\n",
    "    if i % 10 == 0:\n",
    "        print('i,', i)"
   ]
  },
  {
   "cell_type": "code",
   "execution_count": 47,
   "id": "7e2e8dc3",
   "metadata": {},
   "outputs": [
    {
     "name": "stdout",
     "output_type": "stream",
     "text": [
      "i, 0\n",
      "i, 10\n",
      "i, 20\n",
      "i, 30\n",
      "i, 40\n",
      "i, 50\n",
      "i, 60\n",
      "i, 70\n",
      "i, 80\n",
      "i, 90\n",
      "i, 100\n",
      "i, 110\n"
     ]
    }
   ],
   "source": [
    "# download dataset metadata\n",
    "for i in range(len(dataset_list)):\n",
    "    dataset = dataset_list.iloc[i].ref\n",
    "    import os\n",
    "    # create dataset directory\n",
    "    dataset_path = os.path.join('datasets_test', dataset)\n",
    "    # only download into existed dataset\n",
    "    if os.path.exists(dataset_path):\n",
    "        # download dataset metadata\n",
    "        try:\n",
    "            kaggle.api.dataset_metadata(dataset=dataset, path=dataset_path)\n",
    "        except Exception as e:\n",
    "            print(e, dataset)\n",
    "    if i % 10 == 0:\n",
    "        print('i,', i)"
   ]
  },
  {
   "cell_type": "code",
   "execution_count": 49,
   "id": "24b4fe24",
   "metadata": {},
   "outputs": [
    {
     "name": "stdout",
     "output_type": "stream",
     "text": [
      "110\n",
      "i 0\n",
      "i 10\n",
      "i 20\n",
      "i 30\n",
      "i 40\n",
      "i 50\n",
      "i 60\n",
      "i 70\n",
      "i 80\n",
      "i 90\n",
      "i 100\n"
     ]
    }
   ],
   "source": [
    "import csv\n",
    "csv_titles = ['dataset_ref','ref','title','author','lastRunTime','language','kernelType','totalVotes']\n",
    "csv_file = 'kernels_train1.csv'\n",
    "f = open(csv_file, 'w', encoding='UTF8')\n",
    "writer = csv.writer(f)\n",
    "writer.writerow(csv_titles)\n",
    "\n",
    "dataset_list = pd.read_csv('datasets_train.csv')\n",
    "print(len(dataset_list))\n",
    "\n",
    "for i in range(len(dataset_list)):\n",
    "    dataset_ref = dataset_list.iloc[i].ref\n",
    "    kernel_list = kaggle.api.kernels_list(dataset=dataset_ref, sort_by='voteCount')\n",
    "    for kernel in kernel_list[0:2]:\n",
    "        kernel_vars = vars(kernel)\n",
    "        data = [dataset_ref]\n",
    "        for var in kernel_vars:\n",
    "            if var in csv_titles:\n",
    "                data.append(kernel_vars[var])\n",
    "        writer.writerow(data)\n",
    "    if i % 10 == 0:\n",
    "        f.flush()\n",
    "        print('i', i)\n",
    "f.close()\n"
   ]
  },
  {
   "cell_type": "code",
   "execution_count": 50,
   "id": "d6f51be3",
   "metadata": {},
   "outputs": [
    {
     "name": "stdout",
     "output_type": "stream",
     "text": [
      "111\n",
      "i 0\n",
      "i 10\n",
      "i 20\n",
      "i 30\n",
      "i 40\n",
      "i 50\n",
      "i 60\n",
      "i 70\n",
      "i 80\n",
      "i 90\n",
      "i 100\n",
      "i 110\n"
     ]
    }
   ],
   "source": [
    "import csv\n",
    "csv_titles = ['dataset_ref', 'ref','title','author','lastRunTime','language','kernelType','totalVotes']\n",
    "csv_file = 'kernels_test.csv'\n",
    "f = open(csv_file, 'w', encoding='UTF8')\n",
    "writer = csv.writer(f)\n",
    "writer.writerow(csv_titles)\n",
    "\n",
    "dataset_list = pd.read_csv('datasets_test.csv')\n",
    "print(len(dataset_list))\n",
    "\n",
    "for i in range(len(dataset_list)):\n",
    "    dataset_ref = dataset_list.iloc[i].ref\n",
    "    kernel_list = kaggle.api.kernels_list(dataset=dataset_ref, sort_by='voteCount')\n",
    "    for kernel in kernel_list[0:2]:\n",
    "        kernel_vars = vars(kernel)\n",
    "        data = [dataset_ref]\n",
    "        for var in kernel_vars:\n",
    "            if var in csv_titles:\n",
    "                data.append(kernel_vars[var])\n",
    "        writer.writerow(data)\n",
    "    if i % 10 == 0:\n",
    "        f.flush()\n",
    "        print('i', i)\n",
    "f.close()\n"
   ]
  },
  {
   "cell_type": "code",
   "execution_count": 37,
   "id": "3bf41818",
   "metadata": {},
   "outputs": [
    {
     "name": "stdout",
     "output_type": "stream",
     "text": [
      "1986\n"
     ]
    },
    {
     "data": {
      "text/plain": [
       "ref                                             ppb00x/country-gdp\n",
       "creatorUrl                                                  ppb00x\n",
       "totalBytes                                                    7287\n",
       "url              https://www.kaggle.com/datasets/ppb00x/country...\n",
       "downloadCount                                                  970\n",
       "title                                                  Country_GDP\n",
       "viewCount                                                     4386\n",
       "voteCount                                                       33\n",
       "tags             [business, government, social science, beginne...\n",
       "size                                                           7KB\n",
       "Name: 0, dtype: object"
      ]
     },
     "execution_count": 37,
     "metadata": {},
     "output_type": "execute_result"
    }
   ],
   "source": [
    "dataset_10MB = pd.read_csv('dataset_list_10MB.csv')\n",
    "print(len(dataset_10MB))\n",
    "dataset_10MB.iloc[0]"
   ]
  },
  {
   "cell_type": "code",
   "execution_count": null,
   "id": "ed6c8407",
   "metadata": {},
   "outputs": [],
   "source": [
    "dataset_10MB.insert(10,'kernelCount', 0)\n",
    "for i in range(len(dataset_10MB)):\n",
    "    kernel_list = kaggle.api.kernels_list(dataset=dataset_list.iloc[i].ref, page_size=100)\n",
    "    dataset_10MB.iloc[[i]]['kernelCount'] = len(kernel_list)\n",
    "    break\n",
    "dataset_10MB.head(5)"
   ]
  },
  {
   "cell_type": "code",
   "execution_count": null,
   "id": "57e476cf",
   "metadata": {},
   "outputs": [],
   "source": [
    "# competition list\n",
    "competition_list = kaggle.api.competitions_list(page=1)\n",
    "competition_list[17]"
   ]
  },
  {
   "cell_type": "code",
   "execution_count": null,
   "id": "3cb1a655",
   "metadata": {
    "scrolled": true
   },
   "outputs": [],
   "source": [
    "comp = competition_list[17]\n",
    "comp_vars = vars(comp)\n",
    "for var in comp_vars:\n",
    "    print(f\"{var} = {comp_vars[var]}\")"
   ]
  },
  {
   "cell_type": "code",
   "execution_count": 93,
   "id": "20d67832",
   "metadata": {},
   "outputs": [],
   "source": [
    "import csv\n",
    "csv_titles = ['ref','title','url','description','category','tags','teamCount','tags','deadline']\n",
    "csv_file = 'competition_list_open.csv' # only list open competitions\n",
    "f = open(csv_file, 'w', encoding='UTF8')\n",
    "writer = csv.writer(f)\n",
    "writer.writerow(csv_titles)\n",
    "\n",
    "page_id = 1\n",
    "while (page_id <= 100):\n",
    "    comp_list =  kaggle.api.competitions_list(page=page_id)\n",
    "    for comp in comp_list:\n",
    "        comp_vars = vars(comp)\n",
    "        data = []\n",
    "        for var in comp_vars:\n",
    "            if var in csv_titles:\n",
    "                data.append(comp_vars[var])\n",
    "        writer.writerow(data)\n",
    "    page_id += 1\n",
    "    f.flush()\n",
    "f.close()"
   ]
  },
  {
   "cell_type": "code",
   "execution_count": 97,
   "id": "5b1e8214",
   "metadata": {},
   "outputs": [
    {
     "data": {
      "text/plain": [
       "25"
      ]
     },
     "execution_count": 97,
     "metadata": {},
     "output_type": "execute_result"
    }
   ],
   "source": [
    "import pandas as pd\n",
    "comp_list = pd.read_csv('competition_list_open.csv')\n",
    "len(comp_list)"
   ]
  },
  {
   "cell_type": "code",
   "execution_count": 99,
   "id": "7a0800ef",
   "metadata": {},
   "outputs": [
    {
     "name": "stdout",
     "output_type": "stream",
     "text": [
      "i= 0\n",
      "i= 10\n",
      "i= 20\n"
     ]
    }
   ],
   "source": [
    "import csv\n",
    "csv_titles = ['ref','title','author','lastRunTime','language','kernelType','totalVotes']\n",
    "csv_file = 'kernel_list_by_competition_open.csv'\n",
    "f = open(csv_file, 'w', encoding='UTF8')\n",
    "writer = csv.writer(f)\n",
    "writer.writerow(csv_titles)\n",
    "\n",
    "for i in range(len(comp_list)):\n",
    "    competition = comp_list.iloc[i].ref.split('/')[-1]\n",
    "    page_id = 1\n",
    "    while page_id <= 10:\n",
    "        kernel_list = kaggle.api.kernels_list(competition=competition, page=page_id, page_size=100)\n",
    "        for kernel in kernel_list:\n",
    "            kernel_vars = vars(kernel)\n",
    "            data = []\n",
    "            for var in kernel_vars:\n",
    "                if var in csv_titles:\n",
    "                    data.append(kernel_vars[var])\n",
    "            writer.writerow(data)\n",
    "        page_id += 1\n",
    "    if i % 10 == 0:\n",
    "        f.flush()\n",
    "        print('i=', i)\n",
    "f.close()"
   ]
  },
  {
   "cell_type": "code",
   "execution_count": 24,
   "id": "12754f83",
   "metadata": {},
   "outputs": [
    {
     "data": {
      "text/plain": [
       "20"
      ]
     },
     "execution_count": 24,
     "metadata": {},
     "output_type": "execute_result"
    }
   ],
   "source": [
    "kernel_list = kaggle.api.kernels_list(page=1, page_size=20, dataset=None, competition=None, parent_kernel=None, search=None, mine=False, user=None, language=None, kernel_type=None, output_type=None, sort_by=None)\n",
    "len(kernel_list)"
   ]
  },
  {
   "cell_type": "code",
   "execution_count": 31,
   "id": "2d3584e2",
   "metadata": {},
   "outputs": [],
   "source": [
    "import csv\n",
    "csv_titles = ['ref','title','author','lastRunTime','language','kernelType','totalVotes']\n",
    "csv_file = 'kernel_list_all.csv'\n",
    "f = open(csv_file, 'w', encoding='UTF8')\n",
    "writer = csv.writer(f)\n",
    "writer.writerow(csv_titles)\n",
    "\n",
    "page_id = 1\n",
    "while (page_id <= 10):\n",
    "    kernel_list = kaggle.api.kernels_list(page=page_id, page_size=100)\n",
    "    for kernel in kernel_list:\n",
    "        kernel_vars = vars(kernel)\n",
    "        data = []\n",
    "        for var in kernel_vars:\n",
    "            if var in csv_titles:\n",
    "                data.append(kernel_vars[var])\n",
    "        writer.writerow(data)\n",
    "    page_id += 1\n",
    "    f.flush()\n",
    "f.close()\n"
   ]
  },
  {
   "cell_type": "code",
   "execution_count": 21,
   "id": "451f0e07",
   "metadata": {},
   "outputs": [
    {
     "data": {
      "text/plain": [
       "176"
      ]
     },
     "execution_count": 21,
     "metadata": {},
     "output_type": "execute_result"
    }
   ],
   "source": [
    "import pandas as pd\n",
    "kernel_list = pd.read_csv('kernels_test.csv')\n",
    "len(kernel_list)"
   ]
  },
  {
   "cell_type": "code",
   "execution_count": null,
   "id": "0d87dd9b",
   "metadata": {
    "scrolled": true
   },
   "outputs": [],
   "source": [
    "# download kernel notebook and metadata\n",
    "for i in range(len(kernel_list)):\n",
    "    import os\n",
    "    # create kernel directory\n",
    "    kernel = kernel_list.iloc[i]\n",
    "    kernel_path = os.path.join('kernels_test', kernel.ref)\n",
    "    if not os.path.exists(kernel_path):\n",
    "        os.makedirs(kernel_path)\n",
    "        # download notebook\n",
    "        try:\n",
    "            kaggle.api.kernels_pull(kernel.ref, kernel_path, metadata=True)\n",
    "        except:\n",
    "            print(kernel.ref)\n",
    "    if i % 10 == 0:\n",
    "        print('i,', i)"
   ]
  },
  {
   "cell_type": "code",
   "execution_count": 56,
   "id": "e6b61bf7",
   "metadata": {},
   "outputs": [],
   "source": [
    "import os\n",
    "kernel_path = os.path.join('kernels', kernel.ref)\n",
    "os.makedirs(kernel_path)"
   ]
  },
  {
   "cell_type": "code",
   "execution_count": 57,
   "id": "07f3177a",
   "metadata": {},
   "outputs": [
    {
     "data": {
      "text/plain": [
       "'kernels/ppb00x/gdp-per-capita'"
      ]
     },
     "execution_count": 57,
     "metadata": {},
     "output_type": "execute_result"
    }
   ],
   "source": [
    "kaggle.api.kernels_pull(kernel.ref, kernel_path, metadata=True)"
   ]
  },
  {
   "cell_type": "code",
   "execution_count": 58,
   "id": "f77b158d",
   "metadata": {},
   "outputs": [],
   "source": [
    "import json\n",
    "with open(os.path.join(kernel_path, 'kernel-metadata.json')) as meta_file:\n",
    "  meta = meta_file.read()\n",
    "metadata = json.loads(meta)"
   ]
  },
  {
   "cell_type": "code",
   "execution_count": 59,
   "id": "697ca5af",
   "metadata": {},
   "outputs": [
    {
     "data": {
      "text/plain": [
       "{'id': 'ppb00x/gdp-per-capita',\n",
       " 'id_no': 36957138,\n",
       " 'title': 'GDP_per_capita',\n",
       " 'code_file': 'gdp-per-capita.ipynb',\n",
       " 'language': 'python',\n",
       " 'kernel_type': 'notebook',\n",
       " 'is_private': False,\n",
       " 'enable_gpu': False,\n",
       " 'enable_internet': True,\n",
       " 'keywords': [],\n",
       " 'dataset_sources': ['datasets/ppb00x/country-gdp'],\n",
       " 'kernel_sources': [],\n",
       " 'competition_sources': []}"
      ]
     },
     "execution_count": 59,
     "metadata": {},
     "output_type": "execute_result"
    }
   ],
   "source": [
    "metadata"
   ]
  },
  {
   "cell_type": "code",
   "execution_count": 64,
   "id": "d1dc715c",
   "metadata": {},
   "outputs": [
    {
     "name": "stdout",
     "output_type": "stream",
     "text": [
      "ppb00x/country-gdp\n"
     ]
    }
   ],
   "source": [
    "for dataset_source in metadata['dataset_sources']:\n",
    "    dataset = dataset_source[len('datasets/'):]\n",
    "    print(dataset)\n",
    "    kaggle.api.dataset_download_files(dataset, path=kernel_path, unzip=True)"
   ]
  },
  {
   "cell_type": "code",
   "execution_count": null,
   "id": "ec88311a",
   "metadata": {},
   "outputs": [],
   "source": [
    "for competition_source in metadata['competition_sources']:\n",
    "    competition_data = competition_source.split('/')[1]\n",
    "    print(competition_data)\n",
    "    kaggle.api.competition_download_files(competition_data, path=kernel_path)\n",
    "    # unzip\n",
    "    import shutil\n",
    "    shutil.unpack_archive(competition_data + '.zip', kernel_path)\n",
    "    os.remove(competition_data + '.zip')"
   ]
  }
 ],
 "metadata": {
  "kernelspec": {
   "display_name": "Python 3 (ipykernel)",
   "language": "python",
   "name": "python3"
  },
  "language_info": {
   "codemirror_mode": {
    "name": "ipython",
    "version": 3
   },
   "file_extension": ".py",
   "mimetype": "text/x-python",
   "name": "python",
   "nbconvert_exporter": "python",
   "pygments_lexer": "ipython3",
   "version": "3.8.0"
  }
 },
 "nbformat": 4,
 "nbformat_minor": 5
}

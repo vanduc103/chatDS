{
 "cells": [
  {
   "cell_type": "code",
   "execution_count": 323,
   "id": "be5c6644",
   "metadata": {},
   "outputs": [],
   "source": [
    "import sqlite3\n",
    "con = sqlite3.connect(\"promptbase.db\")\n",
    "cur = con.cursor()"
   ]
  },
  {
   "cell_type": "code",
   "execution_count": 307,
   "id": "bb883c16",
   "metadata": {},
   "outputs": [],
   "source": [
    "con = sqlite3.connect(\"promptbase.db\")\n",
    "cur = con.cursor()\n",
    "cur.execute(\"CREATE TABLE prompt(rid INTEGER PRIMARY KEY, user_id, file_id, prompt_id INTEGER, instruction, problem, ans,\\\n",
    "            prompt_task, prompt_what, prompt_how, prompt, generated_code, prompt_source, data_source, pre_id)\")\n",
    "cur.execute(\"CREATE TABLE prompt_his(rid INTEGER PRIMARY KEY, user_id, file_id, prompt_id INTEGER, prompt, generated_code, prompt_source, data_source)\")\n",
    "con.commit()\n",
    "con.close()"
   ]
  },
  {
   "cell_type": "code",
   "execution_count": 81,
   "id": "baee3fcf",
   "metadata": {},
   "outputs": [],
   "source": [
    "#res = cur.execute(\"DELETE FROM prompt_his\")\n",
    "#res = cur.execute(\"DELETE FROM prompt\")\n",
    "#con.commit()"
   ]
  },
  {
   "cell_type": "code",
   "execution_count": 322,
   "id": "ed195ece",
   "metadata": {
    "scrolled": true
   },
   "outputs": [
    {
     "data": {
      "text/plain": [
       "[(0,\n",
       "  'Find Unique values of each column and Print the number of unique values.\\n',\n",
       "  '',\n",
       "  '0'),\n",
       " (0,\n",
       "  \"Import csv data file from the path 'credit_customers.csv' to a variable named 'credit' \",\n",
       "  '',\n",
       "  ''),\n",
       " (1,\n",
       "  'Find unique values of each column then print the number of unique values.\\n\\nShow the name of each column in the loop. Only print for object type columns.\\n\\nShow the name of each column in the loop. Only print for object type columns.\\n',\n",
       "  'Metadata',\n",
       "  '0')]"
      ]
     },
     "execution_count": 322,
     "metadata": {},
     "output_type": "execute_result"
    }
   ],
   "source": [
    "res = cur.execute(\"SELECT DISTINCT prompt_id, prompt, prompt_source, pre_id FROM prompt WHERE file_id=1 \\\n",
    "                  ORDER BY prompt_id\")\n",
    "#con.commit()\n",
    "a = res.fetchall()\n",
    "a"
   ]
  },
  {
   "cell_type": "code",
   "execution_count": 312,
   "id": "7f060c66",
   "metadata": {
    "scrolled": true
   },
   "outputs": [
    {
     "data": {
      "text/plain": [
       "[]"
      ]
     },
     "execution_count": 312,
     "metadata": {},
     "output_type": "execute_result"
    }
   ],
   "source": [
    "res = cur.execute(\"SELECT * FROM prompt_his where file_id=2\")\n",
    "#con.commit()\n",
    "res.fetchall()"
   ]
  },
  {
   "cell_type": "code",
   "execution_count": 324,
   "id": "2840443a",
   "metadata": {},
   "outputs": [],
   "source": [
    "con.close()"
   ]
  },
  {
   "cell_type": "code",
   "execution_count": 218,
   "id": "24aba9d5",
   "metadata": {},
   "outputs": [],
   "source": [
    "from neo4j import GraphDatabase"
   ]
  },
  {
   "cell_type": "code",
   "execution_count": 219,
   "id": "6daf1019",
   "metadata": {},
   "outputs": [],
   "source": [
    "uri = \"neo4j://147.47.236.89:37687\"\n",
    "user, pw = \"neo4j\", \"pidl2021#\""
   ]
  },
  {
   "cell_type": "code",
   "execution_count": 224,
   "id": "9ebf5942",
   "metadata": {},
   "outputs": [],
   "source": [
    "# insert data version from another version\n",
    "def _insert_prompt(tx, prompt_id, prompt, prompt_type, prompt_source):\n",
    "    query = \"MERGE (n:Prompt { \" \\\n",
    "            +\"prompt_id: $prompt_id, prompt: $prompt, prompt_type: $prompt_type, prompt_source:$prompt_source}) \" \\\n",
    "            +\"RETURN n.prompt_id AS prompt_id\"\n",
    "    res = tx.run(query, prompt_id=prompt_id, prompt=prompt, prompt_type=prompt_type, prompt_source=prompt_source)\n",
    "    print(res.data())\n",
    "\n",
    "def _insert_prompt_edge(tx, prompt_id, pre_prompt_id):\n",
    "    query = \"MATCH (v1:Prompt {prompt_id: $pre_prompt_id}) \" \\\n",
    "           +\"MATCH (v2:Prompt {prompt_id: $prompt_id}) \" \\\n",
    "           +\"CREATE (v1)-[rel:NEXT_STEP]->(v2) RETURN rel \"\n",
    "    res = tx.run(query, pre_prompt_id=pre_prompt_id, prompt_id=prompt_id)\n",
    "    print(res.data())\n",
    "\n",
    "def insert_prompt(prompt_id, prompt, prompt_type, prompt_source, pre_prompt_id):\n",
    "    driver = GraphDatabase.driver(uri, auth=(user, pw))\n",
    "    with driver.session() as session:\n",
    "        try:\n",
    "            session.write_transaction(_insert_prompt, prompt_id, prompt, prompt_type, prompt_source)\n",
    "            if pre_prompt_id:\n",
    "                session.write_transaction(_insert_prompt_edge, prompt_id, int(pre_prompt_id))\n",
    "        except Exception as e:\n",
    "            print(\"[ERROR] insert node \", e)\n",
    "    driver.close()"
   ]
  },
  {
   "cell_type": "code",
   "execution_count": 285,
   "id": "e81d51bf",
   "metadata": {},
   "outputs": [],
   "source": [
    "res = cur.execute(\"SELECT id, prompt, prompt_type, prompt_source, pre_id FROM prompt WHERE file_id=1 ORDER BY id\")\n",
    "data = res.fetchall()"
   ]
  },
  {
   "cell_type": "code",
   "execution_count": 286,
   "id": "56a09f99",
   "metadata": {},
   "outputs": [],
   "source": [
    "for i in range(len(data)):\n",
    "    d = list(data[i])\n",
    "    d[1] = d[1].replace('Q:','').replace('\\n','').strip()\n",
    "    data[i] = d"
   ]
  },
  {
   "cell_type": "code",
   "execution_count": 288,
   "id": "97b554fc",
   "metadata": {
    "scrolled": false
   },
   "outputs": [
    {
     "name": "stdout",
     "output_type": "stream",
     "text": [
      "[0, \"write an intitial code to import the csv data file in the path 'credit_customers.csv' to a variable named 'credit'.\", 'Auto', '', '']\n",
      "[0, \"write an intitial code to import the csv data file in the path 'credit_customers.csv' to a variable named 'credit'.\", 'Auto', '', '']\n",
      "[0, \"write an intitial code to import the csv data file in the path 'credit_customers.csv' to a variable named 'credit'.\", 'Auto', '', '']\n",
      "[1, 'print unique values of each column and the number of unique values.show the name of each column in the loop. only print for object type columns.', 'Metadata', '', '0']\n",
      "[5, 'Visualizing Numerical Features by KDEplot.Please use the number of subplots equals to the number of numerical features.', 'Metadata', '', '3']\n",
      "[6, 'Visualizing Categorical Features against the target feature by Countplot.Please add spacing between subplots. Please use the previous list categorical features.', 'Metadata', '', '3']\n",
      "[7, 'Label Encoding for categorical feature including the target.', 'Metadata', '', '0']\n",
      "[8, 'Data scaling for numerical feature.', 'Metadata', '', '7']\n",
      "[9, 'Split training and testing data. Test size = 0.3. Random state = 1.', 'Auto', '', '8']\n",
      "[10, 'Logistic Regression model for training. Show accuracy, f1-score, confusion matrix.', 'Auto', '', '9']\n",
      "[11, 'Naive Bayes Model for training.', 'Auto', '', '9']\n",
      "[11, 'Naive Bayes Model for training.', 'Auto', '', '9']\n",
      "[12, 'Boxplot for model comparison by f1-score, logistic regression and naive bayes', 'Auto', '', '11']\n"
     ]
    }
   ],
   "source": [
    "for i in range(len(data)):\n",
    "    d = data[i]\n",
    "    #if i > 0 and data[i][0] == data[i-1][0]:\n",
    "    #    continue\n",
    "    print(d)\n",
    "    #insert_prompt(d[0], d[1], d[2], d[3], d[4])"
   ]
  },
  {
   "cell_type": "code",
   "execution_count": 273,
   "id": "f761f3a1",
   "metadata": {},
   "outputs": [
    {
     "name": "stderr",
     "output_type": "stream",
     "text": [
      "[nltk_data] Downloading package punkt to /home/duclv/nltk_data...\n",
      "[nltk_data]   Package punkt is already up-to-date!\n",
      "[nltk_data] Downloading package averaged_perceptron_tagger to\n",
      "[nltk_data]     /home/duclv/nltk_data...\n",
      "[nltk_data]   Package averaged_perceptron_tagger is already up-to-\n",
      "[nltk_data]       date!\n"
     ]
    },
    {
     "data": {
      "text/plain": [
       "True"
      ]
     },
     "execution_count": 273,
     "metadata": {},
     "output_type": "execute_result"
    }
   ],
   "source": [
    "import nltk\n",
    "from nltk import word_tokenize, pos_tag, sent_tokenize\n",
    "nltk.download('punkt')\n",
    "nltk.download('averaged_perceptron_tagger')"
   ]
  },
  {
   "cell_type": "code",
   "execution_count": 293,
   "id": "a97da4e9",
   "metadata": {},
   "outputs": [
    {
     "name": "stdout",
     "output_type": "stream",
     "text": [
      "no display found. Using non-interactive Agg backend\n",
      "(S\n",
      "  Visualizing/VBG\n",
      "  (NP Numerical/JJ)\n",
      "  Features/NNS\n",
      "  by/IN\n",
      "  KDEplot.Please/NNP\n",
      "  use/VB\n",
      "  (NP the/DT number/NN of/IN subplots/JJ)\n",
      "  equals/NNS\n",
      "  to/TO\n",
      "  (NP the/DT number/NN of/IN numerical/JJ)\n",
      "  features/NNS\n",
      "  ./.)\n"
     ]
    }
   ],
   "source": [
    "from IPython.display import Image, display\n",
    "import os\n",
    "import matplotlib as mpl\n",
    "if os.environ.get('DISPLAY','') == '':\n",
    "    print('no display found. Using non-interactive Agg backend')\n",
    "    mpl.use('Agg')\n",
    "import matplotlib.pyplot as plt\n",
    "text = word_tokenize(sent_tokenize(data[4][1])[0])\n",
    "sentences = pos_tag(text)\n",
    "grammar = \"NP: {<DT>*<JJ>*<NN>*<IN>*<JJ>}\"\n",
    "cp = nltk.RegexpParser(grammar)\n",
    "result = cp.parse(sentences)\n",
    "print(result)"
   ]
  },
  {
   "cell_type": "code",
   "execution_count": null,
   "id": "29965501",
   "metadata": {},
   "outputs": [],
   "source": []
  }
 ],
 "metadata": {
  "kernelspec": {
   "display_name": "Python 3 (ipykernel)",
   "language": "python",
   "name": "python3"
  },
  "language_info": {
   "codemirror_mode": {
    "name": "ipython",
    "version": 3
   },
   "file_extension": ".py",
   "mimetype": "text/x-python",
   "name": "python",
   "nbconvert_exporter": "python",
   "pygments_lexer": "ipython3",
   "version": "3.8.0"
  }
 },
 "nbformat": 4,
 "nbformat_minor": 5
}

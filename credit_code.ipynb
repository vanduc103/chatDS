{
 "cells": [
  {
   "cell_type": "code",
   "execution_count": 5,
   "id": "99eef740",
   "metadata": {},
   "outputs": [],
   "source": [
    "import pandas as pd\n",
    "credit = pd.read_csv('credit_customers.csv')\n"
   ]
  },
  {
   "cell_type": "code",
   "execution_count": 6,
   "id": "bbd53e5c",
   "metadata": {},
   "outputs": [
    {
     "name": "stdout",
     "output_type": "stream",
     "text": [
      "checking_status: 4 unique values\n",
      "credit_history: 5 unique values\n",
      "purpose: 10 unique values\n",
      "savings_status: 5 unique values\n",
      "employment: 5 unique values\n",
      "personal_status: 4 unique values\n",
      "other_parties: 3 unique values\n",
      "property_magnitude: 4 unique values\n",
      "other_payment_plans: 3 unique values\n",
      "housing: 3 unique values\n",
      "job: 4 unique values\n",
      "own_telephone: 2 unique values\n",
      "foreign_worker: 2 unique values\n",
      "class: 2 unique values\n"
     ]
    }
   ],
   "source": [
    "\n",
    "for col in credit.columns:\n",
    "    if credit[col].dtype == 'object':\n",
    "        print('Column Name:', col)\n",
    "        print('Unique Values:', credit[col].unique())\n",
    "        print('Number of Unique Values:', len(credit[col].unique()))\n",
    "        print('\\n')\n"
   ]
  },
  {
   "cell_type": "code",
   "execution_count": null,
   "id": "3418f1d3",
   "metadata": {},
   "outputs": [],
   "source": [
    "\n",
    "# Split 'personal_status' into 2 columns\n",
    "credit[['gender', 'marital_status']] = credit['personal_status'].str.split(' ', expand=True)\n",
    "\n",
    "# Drop old column\n",
    "credit.drop('personal_status', axis=1, inplace=True)\n"
   ]
  }
 ],
 "metadata": {
  "kernelspec": {
   "display_name": "Python 3 (ipykernel)",
   "language": "python",
   "name": "python3"
  },
  "language_info": {
   "codemirror_mode": {
    "name": "ipython",
    "version": 3
   },
   "file_extension": ".py",
   "mimetype": "text/x-python",
   "name": "python",
   "nbconvert_exporter": "python",
   "pygments_lexer": "ipython3",
   "version": "3.8.0"
  }
 },
 "nbformat": 4,
 "nbformat_minor": 5
}

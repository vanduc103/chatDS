{
 "cells": [
  {
   "cell_type": "markdown",
   "id": "bd93ea1c",
   "metadata": {},
   "source": [
    "Load data from file. Show data information and few rows."
   ]
  },
  {
   "cell_type": "code",
   "execution_count": 22,
   "id": "6a9ce646",
   "metadata": {
    "scrolled": true
   },
   "outputs": [
    {
     "name": "stdout",
     "output_type": "stream",
     "text": [
      "<class 'pandas.core.frame.DataFrame'>\n",
      "RangeIndex: 4999 entries, 0 to 4998\n",
      "Data columns (total 25 columns):\n",
      " #   Column                   Non-Null Count  Dtype  \n",
      "---  ------                   --------------  -----  \n",
      " 0   Year                     4999 non-null   int64  \n",
      " 1   Make                     4999 non-null   object \n",
      " 2   Model                    4999 non-null   object \n",
      " 3   Condition                4999 non-null   object \n",
      " 4   Price                    4999 non-null   object \n",
      " 5   Consumer_Rating          4999 non-null   float64\n",
      " 6   Consumer_Review_#        4999 non-null   int64  \n",
      " 7   Exterior_Color           4988 non-null   object \n",
      " 8   Interior_Color           4988 non-null   object \n",
      " 9   Drivetrain               4988 non-null   object \n",
      " 10  MPG                      3514 non-null   object \n",
      " 11  Fuel_Type                4988 non-null   object \n",
      " 12  Transmission             4988 non-null   object \n",
      " 13  Engine                   4988 non-null   object \n",
      " 14  VIN                      4988 non-null   object \n",
      " 15  Stock_#                  4988 non-null   object \n",
      " 16  Mileage                  4988 non-null   object \n",
      " 17  Comfort_Rating           4447 non-null   float64\n",
      " 18  Interior_Design_Rating   4447 non-null   float64\n",
      " 19  Performance_Rating       4447 non-null   float64\n",
      " 20  Value_For_Money_Rating   4447 non-null   float64\n",
      " 21  Exterior_Styling_Rating  4447 non-null   float64\n",
      " 22  Reliability_Rating       4447 non-null   float64\n",
      " 23  State                    4926 non-null   object \n",
      " 24  Seller_Type              4926 non-null   object \n",
      "dtypes: float64(7), int64(2), object(16)\n",
      "memory usage: 976.5+ KB\n",
      "None\n",
      "   Year   Make                      Model Condition    Price  Consumer_Rating  \\\n",
      "0  2023  Honda              Ridgeline RTL       New  $46,370              4.8   \n",
      "1  2023  Honda          CR-V Hybrid Sport       New  $34,150              1.7   \n",
      "2  2023  Honda          CR-V Hybrid Sport       New  $34,245              4.7   \n",
      "3  2022  Honda           Pilot TrailSport       New  $46,500              5.0   \n",
      "4  2023  Honda  CR-V Hybrid Sport Touring       New  $40,395              4.4   \n",
      "\n",
      "   Consumer_Review_#           Exterior_Color Interior_Color  \\\n",
      "0                  9     Platinum White Pearl          Beige   \n",
      "1                 24     Platinum White Pearl          Black   \n",
      "2               2869  Meteorite Gray Metallic          Black   \n",
      "3                 12         Sonic Gray Pearl          Black   \n",
      "4                 12      Crystal Black Pearl          Black   \n",
      "\n",
      "          Drivetrain  ...   Stock_# Mileage Comfort_Rating  \\\n",
      "0    All-wheel Drive  ...  00830164      10            5.0   \n",
      "1                FWD  ...   6402953       –            5.0   \n",
      "2  Front-wheel Drive  ...  PH704805       1            5.0   \n",
      "3    All-wheel Drive  ...  5700429B       5            5.0   \n",
      "4    All-wheel Drive  ...   5705954       5            5.0   \n",
      "\n",
      "  Interior_Design_Rating Performance_Rating Value_For_Money_Rating  \\\n",
      "0                    4.8                4.8                    4.2   \n",
      "1                    3.0                4.0                    4.0   \n",
      "2                    3.0                4.0                    4.0   \n",
      "3                    5.0                5.0                    5.0   \n",
      "4                    3.0                4.0                    4.0   \n",
      "\n",
      "  Exterior_Styling_Rating  Reliability_Rating  State  Seller_Type  \n",
      "0                     5.0                 5.0     CA       Dealer  \n",
      "1                     5.0                 5.0     CA       Dealer  \n",
      "2                     5.0                 5.0     CA       Dealer  \n",
      "3                     5.0                 5.0     CA       Dealer  \n",
      "4                     5.0                 5.0     CA       Dealer  \n",
      "\n",
      "[5 rows x 25 columns]\n"
     ]
    }
   ],
   "source": [
    "import pandas as pd\n",
    "\n",
    "# Load data from file\n",
    "data = pd.read_csv('uploads/honda_sell_data.csv')\n",
    "\n",
    "# Show data information\n",
    "print(data.info())\n",
    "\n",
    "# Show first few rows of data\n",
    "print(data.head()) \n"
   ]
  },
  {
   "cell_type": "markdown",
   "id": "7a0e08b5",
   "metadata": {},
   "source": [
    "Data Cleaning for 'Price' Column by Remove non-numeric characters, convert 'Not Priced' to 0 and convert to float."
   ]
  },
  {
   "cell_type": "code",
   "execution_count": 24,
   "id": "8da1676b",
   "metadata": {},
   "outputs": [
    {
     "data": {
      "text/plain": [
       "['$9,988', '$9,990', '$9,995', '$9,999', 'Not Priced']"
      ]
     },
     "execution_count": 24,
     "metadata": {},
     "output_type": "execute_result"
    }
   ],
   "source": [
    "sorted(data['Price'].unique())[-5:]"
   ]
  },
  {
   "cell_type": "code",
   "execution_count": 2,
   "id": "90d7b44a",
   "metadata": {
    "scrolled": true
   },
   "outputs": [
    {
     "name": "stdout",
     "output_type": "stream",
     "text": [
      "<class 'pandas.core.frame.DataFrame'>\n",
      "RangeIndex: 4999 entries, 0 to 4998\n",
      "Data columns (total 25 columns):\n",
      " #   Column                   Non-Null Count  Dtype  \n",
      "---  ------                   --------------  -----  \n",
      " 0   Year                     4999 non-null   int64  \n",
      " 1   Make                     4999 non-null   object \n",
      " 2   Model                    4999 non-null   object \n",
      " 3   Condition                4999 non-null   object \n",
      " 4   Price                    4999 non-null   float64\n",
      " 5   Consumer_Rating          4999 non-null   float64\n",
      " 6   Consumer_Review_#        4999 non-null   int64  \n",
      " 7   Exterior_Color           4988 non-null   object \n",
      " 8   Interior_Color           4988 non-null   object \n",
      " 9   Drivetrain               4988 non-null   object \n",
      " 10  MPG                      3514 non-null   object \n",
      " 11  Fuel_Type                4988 non-null   object \n",
      " 12  Transmission             4988 non-null   object \n",
      " 13  Engine                   4988 non-null   object \n",
      " 14  VIN                      4988 non-null   object \n",
      " 15  Stock_#                  4988 non-null   object \n",
      " 16  Mileage                  4988 non-null   object \n",
      " 17  Comfort_Rating           4447 non-null   float64\n",
      " 18  Interior_Design_Rating   4447 non-null   float64\n",
      " 19  Performance_Rating       4447 non-null   float64\n",
      " 20  Value_For_Money_Rating   4447 non-null   float64\n",
      " 21  Exterior_Styling_Rating  4447 non-null   float64\n",
      " 22  Reliability_Rating       4447 non-null   float64\n",
      " 23  State                    4926 non-null   object \n",
      " 24  Seller_Type              4926 non-null   object \n",
      "dtypes: float64(8), int64(2), object(15)\n",
      "memory usage: 976.5+ KB\n",
      "None\n",
      "   Year   Make                      Model Condition    Price  Consumer_Rating  \\\n",
      "0  2023  Honda              Ridgeline RTL       New  46370.0              4.8   \n",
      "1  2023  Honda          CR-V Hybrid Sport       New  34150.0              1.7   \n",
      "2  2023  Honda          CR-V Hybrid Sport       New  34245.0              4.7   \n",
      "3  2022  Honda           Pilot TrailSport       New  46500.0              5.0   \n",
      "4  2023  Honda  CR-V Hybrid Sport Touring       New  40395.0              4.4   \n",
      "\n",
      "   Consumer_Review_#           Exterior_Color Interior_Color  \\\n",
      "0                  9     Platinum White Pearl          Beige   \n",
      "1                 24     Platinum White Pearl          Black   \n",
      "2               2869  Meteorite Gray Metallic          Black   \n",
      "3                 12         Sonic Gray Pearl          Black   \n",
      "4                 12      Crystal Black Pearl          Black   \n",
      "\n",
      "          Drivetrain  ...   Stock_# Mileage Comfort_Rating  \\\n",
      "0    All-wheel Drive  ...  00830164      10            5.0   \n",
      "1                FWD  ...   6402953       –            5.0   \n",
      "2  Front-wheel Drive  ...  PH704805       1            5.0   \n",
      "3    All-wheel Drive  ...  5700429B       5            5.0   \n",
      "4    All-wheel Drive  ...   5705954       5            5.0   \n",
      "\n",
      "  Interior_Design_Rating Performance_Rating Value_For_Money_Rating  \\\n",
      "0                    4.8                4.8                    4.2   \n",
      "1                    3.0                4.0                    4.0   \n",
      "2                    3.0                4.0                    4.0   \n",
      "3                    5.0                5.0                    5.0   \n",
      "4                    3.0                4.0                    4.0   \n",
      "\n",
      "  Exterior_Styling_Rating  Reliability_Rating  State  Seller_Type  \n",
      "0                     5.0                 5.0     CA       Dealer  \n",
      "1                     5.0                 5.0     CA       Dealer  \n",
      "2                     5.0                 5.0     CA       Dealer  \n",
      "3                     5.0                 5.0     CA       Dealer  \n",
      "4                     5.0                 5.0     CA       Dealer  \n",
      "\n",
      "[5 rows x 25 columns]\n"
     ]
    }
   ],
   "source": [
    "# Define function to clean price column\n",
    "def clean_price(price):\n",
    "    # Remove non-numeric characters\n",
    "    price = price.replace('$', '').replace(',', '')\n",
    "    # Convert 'Not Priced' to 0\n",
    "    if price == 'Not Priced':\n",
    "        price = '0'\n",
    "    # Convert to float\n",
    "    price = float(price)\n",
    "    return price\n",
    "\n",
    "# Apply clean_price function to 'Price' column\n",
    "data['Price'] = data['Price'].apply(clean_price)\n",
    "\n",
    "# Show updated data information\n",
    "print(data.info())\n",
    "\n",
    "# Show updated first few rows of data\n",
    "print(data.head())\n"
   ]
  },
  {
   "cell_type": "markdown",
   "id": "1228fdb6",
   "metadata": {},
   "source": [
    "Data Cleaning for 'Mileage' Column by convert not numeric characters to NaN and remove missing values."
   ]
  },
  {
   "cell_type": "code",
   "execution_count": 10,
   "id": "b2d183f2",
   "metadata": {
    "scrolled": true
   },
   "outputs": [
    {
     "name": "stdout",
     "output_type": "stream",
     "text": [
      "<class 'pandas.core.frame.DataFrame'>\n",
      "Int64Index: 4701 entries, 0 to 4998\n",
      "Data columns (total 25 columns):\n",
      " #   Column                   Non-Null Count  Dtype  \n",
      "---  ------                   --------------  -----  \n",
      " 0   Year                     4701 non-null   int64  \n",
      " 1   Make                     4701 non-null   object \n",
      " 2   Model                    4701 non-null   object \n",
      " 3   Condition                4701 non-null   object \n",
      " 4   Price                    4701 non-null   float64\n",
      " 5   Consumer_Rating          4701 non-null   float64\n",
      " 6   Consumer_Review_#        4701 non-null   int64  \n",
      " 7   Exterior_Color           4701 non-null   object \n",
      " 8   Interior_Color           4701 non-null   object \n",
      " 9   Drivetrain               4701 non-null   object \n",
      " 10  MPG                      3430 non-null   object \n",
      " 11  Fuel_Type                4701 non-null   object \n",
      " 12  Transmission             4701 non-null   object \n",
      " 13  Engine                   4701 non-null   object \n",
      " 14  VIN                      4701 non-null   object \n",
      " 15  Stock_#                  4701 non-null   object \n",
      " 16  Mileage                  4701 non-null   float64\n",
      " 17  Comfort_Rating           4239 non-null   float64\n",
      " 18  Interior_Design_Rating   4239 non-null   float64\n",
      " 19  Performance_Rating       4239 non-null   float64\n",
      " 20  Value_For_Money_Rating   4239 non-null   float64\n",
      " 21  Exterior_Styling_Rating  4239 non-null   float64\n",
      " 22  Reliability_Rating       4239 non-null   float64\n",
      " 23  State                    4639 non-null   object \n",
      " 24  Seller_Type              4639 non-null   object \n",
      "dtypes: float64(9), int64(2), object(14)\n",
      "memory usage: 954.9+ KB\n",
      "None\n",
      "   Year   Make                      Model Condition    Price  Consumer_Rating  \\\n",
      "0  2023  Honda              Ridgeline RTL       New  46370.0              4.8   \n",
      "2  2023  Honda          CR-V Hybrid Sport       New  34245.0              4.7   \n",
      "3  2022  Honda           Pilot TrailSport       New  46500.0              5.0   \n",
      "4  2023  Honda  CR-V Hybrid Sport Touring       New  40395.0              4.4   \n",
      "5  2023  Honda               Odyssey EX-L       New  42250.0              4.4   \n",
      "\n",
      "   Consumer_Review_#           Exterior_Color Interior_Color  \\\n",
      "0                  9     Platinum White Pearl          Beige   \n",
      "2               2869  Meteorite Gray Metallic          Black   \n",
      "3                 12         Sonic Gray Pearl          Black   \n",
      "4                 12      Crystal Black Pearl          Black   \n",
      "5                 12  Pacific Pewter Metallic          Mocha   \n",
      "\n",
      "          Drivetrain  ...   Stock_# Mileage Comfort_Rating  \\\n",
      "0    All-wheel Drive  ...  00830164    10.0            5.0   \n",
      "2  Front-wheel Drive  ...  PH704805     1.0            5.0   \n",
      "3    All-wheel Drive  ...  5700429B     5.0            5.0   \n",
      "4    All-wheel Drive  ...   5705954     5.0            5.0   \n",
      "5  Front-wheel Drive  ...   5724270     5.0            5.0   \n",
      "\n",
      "  Interior_Design_Rating Performance_Rating Value_For_Money_Rating  \\\n",
      "0                    4.8                4.8                    4.2   \n",
      "2                    3.0                4.0                    4.0   \n",
      "3                    5.0                5.0                    5.0   \n",
      "4                    3.0                4.0                    4.0   \n",
      "5                    5.0                4.0                    4.0   \n",
      "\n",
      "   Exterior_Styling_Rating  Reliability_Rating  State  Seller_Type  \n",
      "0                      5.0                 5.0     CA       Dealer  \n",
      "2                      5.0                 5.0     CA       Dealer  \n",
      "3                      5.0                 5.0     CA       Dealer  \n",
      "4                      5.0                 5.0     CA       Dealer  \n",
      "5                      4.0                 5.0     CA       Dealer  \n",
      "\n",
      "[5 rows x 25 columns]\n"
     ]
    }
   ],
   "source": [
    "# Define function to clean mileage column\n",
    "def clean_mileage(mileage):\n",
    "    # Convert non-numeric characters to NaN\n",
    "    if not mileage.isnumeric():\n",
    "        mileage = float('NaN')\n",
    "    else:\n",
    "        mileage = int(mileage)\n",
    "    return mileage\n",
    "\n",
    "# Apply clean_mileage function to 'Mileage' column\n",
    "data['Mileage'] = data['Mileage'].apply(clean_mileage)\n",
    "\n",
    "# Remove missing values\n",
    "data.dropna(subset=['Mileage'], inplace=True)\n",
    "\n",
    "# Show final data information\n",
    "print(data.info())\n",
    "\n",
    "# Show final first few rows of data\n",
    "print(data.head())\n"
   ]
  },
  {
   "cell_type": "markdown",
   "id": "2cfdcc4e",
   "metadata": {},
   "source": [
    "Visualize the distribution of car prices using a histogram and boxplot to identify any outliers or skewness in the data."
   ]
  },
  {
   "cell_type": "code",
   "execution_count": 12,
   "id": "b8fa658c",
   "metadata": {
    "scrolled": true
   },
   "outputs": [
    {
     "data": {
      "image/png": "[encoded data removed]",
      "text/plain": [
       "<Figure size 432x288 with 1 Axes>"
      ]
     },
     "metadata": {
      "needs_background": "light"
     },
     "output_type": "display_data"
    },
    {
     "data": {
      "image/png": "[encoded data removed]",
      "text/plain": [
       "<Figure size 432x288 with 1 Axes>"
      ]
     },
     "metadata": {
      "needs_background": "light"
     },
     "output_type": "display_data"
    },
    {
     "name": "stdout",
     "output_type": "stream",
     "text": [
      "Number of outliers: 1\n",
      "      Year   Make                         Model Condition    Price  \\\n",
      "3586  2021  Honda  Civic Type R Limited Edition      Used  69980.0   \n",
      "\n",
      "      Consumer_Rating  Consumer_Review_#  Exterior_Color Interior_Color  \\\n",
      "3586              4.9                  0  Phoenix Yellow      Black/Red   \n",
      "\n",
      "             Drivetrain  ... Stock_# Mileage Comfort_Rating  \\\n",
      "3586  Front-wheel Drive  ...  203958   700.0            5.0   \n",
      "\n",
      "     Interior_Design_Rating Performance_Rating Value_For_Money_Rating  \\\n",
      "3586                    4.8                5.0                    4.8   \n",
      "\n",
      "      Exterior_Styling_Rating  Reliability_Rating  State  Seller_Type  \n",
      "3586                      4.8                 5.0     FL       Dealer  \n",
      "\n",
      "[1 rows x 25 columns]\n"
     ]
    }
   ],
   "source": [
    "# Import visualization libraries\n",
    "import matplotlib.pyplot as plt\n",
    "import seaborn as sns\n",
    "\n",
    "# Create histogram of car prices\n",
    "sns.histplot(data=data, x='Price', bins=20)\n",
    "plt.title('Distribution of Car Prices')\n",
    "plt.xlabel('Price')\n",
    "plt.ylabel('Count')\n",
    "plt.show()\n",
    "\n",
    "# Create boxplot of car prices\n",
    "sns.boxplot(data=data, x='Price')\n",
    "plt.title('Boxplot of Car Prices')\n",
    "plt.xlabel('Price')\n",
    "plt.show()\n",
    "\n",
    "# Identify outliers\n",
    "outliers = data[data['Price'] > 60000]\n",
    "print('Number of outliers:', len(outliers))\n",
    "print(outliers)"
   ]
  },
  {
   "cell_type": "markdown",
   "id": "01d70433",
   "metadata": {},
   "source": [
    "Remove the outlier(s) from the dataset"
   ]
  },
  {
   "cell_type": "code",
   "execution_count": 13,
   "id": "142ead07",
   "metadata": {
    "scrolled": true
   },
   "outputs": [
    {
     "name": "stdout",
     "output_type": "stream",
     "text": [
      "<class 'pandas.core.frame.DataFrame'>\n",
      "Int64Index: 4700 entries, 0 to 4998\n",
      "Data columns (total 25 columns):\n",
      " #   Column                   Non-Null Count  Dtype  \n",
      "---  ------                   --------------  -----  \n",
      " 0   Year                     4700 non-null   int64  \n",
      " 1   Make                     4700 non-null   object \n",
      " 2   Model                    4700 non-null   object \n",
      " 3   Condition                4700 non-null   object \n",
      " 4   Price                    4700 non-null   float64\n",
      " 5   Consumer_Rating          4700 non-null   float64\n",
      " 6   Consumer_Review_#        4700 non-null   int64  \n",
      " 7   Exterior_Color           4700 non-null   object \n",
      " 8   Interior_Color           4700 non-null   object \n",
      " 9   Drivetrain               4700 non-null   object \n",
      " 10  MPG                      3429 non-null   object \n",
      " 11  Fuel_Type                4700 non-null   object \n",
      " 12  Transmission             4700 non-null   object \n",
      " 13  Engine                   4700 non-null   object \n",
      " 14  VIN                      4700 non-null   object \n",
      " 15  Stock_#                  4700 non-null   object \n",
      " 16  Mileage                  4700 non-null   float64\n",
      " 17  Comfort_Rating           4238 non-null   float64\n",
      " 18  Interior_Design_Rating   4238 non-null   float64\n",
      " 19  Performance_Rating       4238 non-null   float64\n",
      " 20  Value_For_Money_Rating   4238 non-null   float64\n",
      " 21  Exterior_Styling_Rating  4238 non-null   float64\n",
      " 22  Reliability_Rating       4238 non-null   float64\n",
      " 23  State                    4638 non-null   object \n",
      " 24  Seller_Type              4638 non-null   object \n",
      "dtypes: float64(9), int64(2), object(14)\n",
      "memory usage: 954.7+ KB\n",
      "None\n",
      "   Year   Make                      Model Condition    Price  Consumer_Rating  \\\n",
      "0  2023  Honda              Ridgeline RTL       New  46370.0              4.8   \n",
      "2  2023  Honda          CR-V Hybrid Sport       New  34245.0              4.7   \n",
      "3  2022  Honda           Pilot TrailSport       New  46500.0              5.0   \n",
      "4  2023  Honda  CR-V Hybrid Sport Touring       New  40395.0              4.4   \n",
      "5  2023  Honda               Odyssey EX-L       New  42250.0              4.4   \n",
      "\n",
      "   Consumer_Review_#           Exterior_Color Interior_Color  \\\n",
      "0                  9     Platinum White Pearl          Beige   \n",
      "2               2869  Meteorite Gray Metallic          Black   \n",
      "3                 12         Sonic Gray Pearl          Black   \n",
      "4                 12      Crystal Black Pearl          Black   \n",
      "5                 12  Pacific Pewter Metallic          Mocha   \n",
      "\n",
      "          Drivetrain  ...   Stock_# Mileage Comfort_Rating  \\\n",
      "0    All-wheel Drive  ...  00830164    10.0            5.0   \n",
      "2  Front-wheel Drive  ...  PH704805     1.0            5.0   \n",
      "3    All-wheel Drive  ...  5700429B     5.0            5.0   \n",
      "4    All-wheel Drive  ...   5705954     5.0            5.0   \n",
      "5  Front-wheel Drive  ...   5724270     5.0            5.0   \n",
      "\n",
      "  Interior_Design_Rating Performance_Rating Value_For_Money_Rating  \\\n",
      "0                    4.8                4.8                    4.2   \n",
      "2                    3.0                4.0                    4.0   \n",
      "3                    5.0                5.0                    5.0   \n",
      "4                    3.0                4.0                    4.0   \n",
      "5                    5.0                4.0                    4.0   \n",
      "\n",
      "   Exterior_Styling_Rating  Reliability_Rating  State  Seller_Type  \n",
      "0                      5.0                 5.0     CA       Dealer  \n",
      "2                      5.0                 5.0     CA       Dealer  \n",
      "3                      5.0                 5.0     CA       Dealer  \n",
      "4                      5.0                 5.0     CA       Dealer  \n",
      "5                      4.0                 5.0     CA       Dealer  \n",
      "\n",
      "[5 rows x 25 columns]\n"
     ]
    },
    {
     "data": {
      "image/png": "[encoded data removed]",
      "text/plain": [
       "<Figure size 432x288 with 1 Axes>"
      ]
     },
     "metadata": {
      "needs_background": "light"
     },
     "output_type": "display_data"
    },
    {
     "data": {
      "image/png": "[encoded data removed]",
      "text/plain": [
       "<Figure size 432x288 with 1 Axes>"
      ]
     },
     "metadata": {
      "needs_background": "light"
     },
     "output_type": "display_data"
    }
   ],
   "source": [
    "# Remove outliers\n",
    "data = data[data['Price'] <= 60000]\n",
    "\n",
    "# Show updated data information\n",
    "print(data.info())\n",
    "\n",
    "# Show updated first few rows of data\n",
    "print(data.head())\n",
    "\n",
    "# Create histogram of car prices without outliers\n",
    "sns.histplot(data=data, x='Price', bins=20)\n",
    "plt.title('Distribution of Car Prices (without outliers)')\n",
    "plt.xlabel('Price')\n",
    "plt.ylabel('Count')\n",
    "plt.show()\n",
    "\n",
    "# Create boxplot of car prices without outliers\n",
    "sns.boxplot(data=data, x='Price')\n",
    "plt.title('Boxplot of Car Prices (without outliers)')\n",
    "plt.xlabel('Price')\n",
    "plt.show()"
   ]
  },
  {
   "cell_type": "markdown",
   "id": "7752faf3",
   "metadata": {},
   "source": [
    "Create new column 'Age' by subtracting the 'Year' column from the current year"
   ]
  },
  {
   "cell_type": "code",
   "execution_count": 17,
   "id": "5b8fd204",
   "metadata": {
    "scrolled": true
   },
   "outputs": [
    {
     "name": "stdout",
     "output_type": "stream",
     "text": [
      "<class 'pandas.core.frame.DataFrame'>\n",
      "Int64Index: 4700 entries, 0 to 4998\n",
      "Data columns (total 26 columns):\n",
      " #   Column                   Non-Null Count  Dtype  \n",
      "---  ------                   --------------  -----  \n",
      " 0   Year                     4700 non-null   int64  \n",
      " 1   Make                     4700 non-null   object \n",
      " 2   Model                    4700 non-null   object \n",
      " 3   Condition                4700 non-null   object \n",
      " 4   Price                    4700 non-null   float64\n",
      " 5   Consumer_Rating          4700 non-null   float64\n",
      " 6   Consumer_Review_#        4700 non-null   int64  \n",
      " 7   Exterior_Color           4700 non-null   object \n",
      " 8   Interior_Color           4700 non-null   object \n",
      " 9   Drivetrain               4700 non-null   object \n",
      " 10  MPG                      3429 non-null   object \n",
      " 11  Fuel_Type                4700 non-null   object \n",
      " 12  Transmission             4700 non-null   object \n",
      " 13  Engine                   4700 non-null   object \n",
      " 14  VIN                      4700 non-null   object \n",
      " 15  Stock_#                  4700 non-null   object \n",
      " 16  Mileage                  4700 non-null   float64\n",
      " 17  Comfort_Rating           4238 non-null   float64\n",
      " 18  Interior_Design_Rating   4238 non-null   float64\n",
      " 19  Performance_Rating       4238 non-null   float64\n",
      " 20  Value_For_Money_Rating   4238 non-null   float64\n",
      " 21  Exterior_Styling_Rating  4238 non-null   float64\n",
      " 22  Reliability_Rating       4238 non-null   float64\n",
      " 23  State                    4638 non-null   object \n",
      " 24  Seller_Type              4638 non-null   object \n",
      " 25  Age                      4700 non-null   int64  \n",
      "dtypes: float64(9), int64(3), object(14)\n",
      "memory usage: 991.4+ KB\n",
      "None\n",
      "   Year   Make                      Model Condition    Price  Consumer_Rating  \\\n",
      "0  2023  Honda              Ridgeline RTL       New  46370.0              4.8   \n",
      "2  2023  Honda          CR-V Hybrid Sport       New  34245.0              4.7   \n",
      "3  2022  Honda           Pilot TrailSport       New  46500.0              5.0   \n",
      "4  2023  Honda  CR-V Hybrid Sport Touring       New  40395.0              4.4   \n",
      "5  2023  Honda               Odyssey EX-L       New  42250.0              4.4   \n",
      "\n",
      "   Consumer_Review_#           Exterior_Color Interior_Color  \\\n",
      "0                  9     Platinum White Pearl          Beige   \n",
      "2               2869  Meteorite Gray Metallic          Black   \n",
      "3                 12         Sonic Gray Pearl          Black   \n",
      "4                 12      Crystal Black Pearl          Black   \n",
      "5                 12  Pacific Pewter Metallic          Mocha   \n",
      "\n",
      "          Drivetrain  ... Mileage Comfort_Rating Interior_Design_Rating  \\\n",
      "0    All-wheel Drive  ...    10.0            5.0                    4.8   \n",
      "2  Front-wheel Drive  ...     1.0            5.0                    3.0   \n",
      "3    All-wheel Drive  ...     5.0            5.0                    5.0   \n",
      "4    All-wheel Drive  ...     5.0            5.0                    3.0   \n",
      "5  Front-wheel Drive  ...     5.0            5.0                    5.0   \n",
      "\n",
      "  Performance_Rating Value_For_Money_Rating Exterior_Styling_Rating  \\\n",
      "0                4.8                    4.2                     5.0   \n",
      "2                4.0                    4.0                     5.0   \n",
      "3                5.0                    5.0                     5.0   \n",
      "4                4.0                    4.0                     5.0   \n",
      "5                4.0                    4.0                     4.0   \n",
      "\n",
      "   Reliability_Rating  State  Seller_Type  Age  \n",
      "0                 5.0     CA       Dealer    0  \n",
      "2                 5.0     CA       Dealer    0  \n",
      "3                 5.0     CA       Dealer    1  \n",
      "4                 5.0     CA       Dealer    0  \n",
      "5                 5.0     CA       Dealer    0  \n",
      "\n",
      "[5 rows x 26 columns]\n"
     ]
    },
    {
     "name": "stderr",
     "output_type": "stream",
     "text": [
      "/tmp/ipykernel_8323/324140383.py:2: FutureWarning: The pandas.datetime class is deprecated and will be removed from pandas in a future version. Import from datetime module instead.\n",
      "  data['Age'] = pd.datetime.now().year - data['Year']\n"
     ]
    }
   ],
   "source": [
    "# Create new column 'Age' by subtracting the 'Year' column from the current year\n",
    "data['Age'] = pd.datetime.now().year - data['Year']\n",
    "\n",
    "# Show updated data information\n",
    "print(data.info())\n",
    "\n",
    "# Show updated first few rows of data\n",
    "print(data.head())"
   ]
  },
  {
   "cell_type": "markdown",
   "id": "805ca4f0",
   "metadata": {},
   "source": [
    "Feature Scaling by Standardization for Year, Consumer_Rating, Consumer_Review_#, Mileage, Comfort_Rating, Interior_Design_Rating, Performance_Rating, Value_For_Money_Rating, Exterior_Styling_Rating, Reliability_Rating, Age. "
   ]
  },
  {
   "cell_type": "code",
   "execution_count": 19,
   "id": "02c402cf",
   "metadata": {
    "scrolled": true
   },
   "outputs": [
    {
     "name": "stdout",
     "output_type": "stream",
     "text": [
      "<class 'pandas.core.frame.DataFrame'>\n",
      "Int64Index: 4700 entries, 0 to 4998\n",
      "Data columns (total 26 columns):\n",
      " #   Column                   Non-Null Count  Dtype  \n",
      "---  ------                   --------------  -----  \n",
      " 0   Year                     4700 non-null   float64\n",
      " 1   Make                     4700 non-null   object \n",
      " 2   Model                    4700 non-null   object \n",
      " 3   Condition                4700 non-null   object \n",
      " 4   Price                    4700 non-null   float64\n",
      " 5   Consumer_Rating          4700 non-null   float64\n",
      " 6   Consumer_Review_#        4700 non-null   float64\n",
      " 7   Exterior_Color           4700 non-null   object \n",
      " 8   Interior_Color           4700 non-null   object \n",
      " 9   Drivetrain               4700 non-null   object \n",
      " 10  MPG                      3429 non-null   object \n",
      " 11  Fuel_Type                4700 non-null   object \n",
      " 12  Transmission             4700 non-null   object \n",
      " 13  Engine                   4700 non-null   object \n",
      " 14  VIN                      4700 non-null   object \n",
      " 15  Stock_#                  4700 non-null   object \n",
      " 16  Mileage                  4700 non-null   float64\n",
      " 17  Comfort_Rating           4238 non-null   float64\n",
      " 18  Interior_Design_Rating   4238 non-null   float64\n",
      " 19  Performance_Rating       4238 non-null   float64\n",
      " 20  Value_For_Money_Rating   4238 non-null   float64\n",
      " 21  Exterior_Styling_Rating  4238 non-null   float64\n",
      " 22  Reliability_Rating       4238 non-null   float64\n",
      " 23  State                    4638 non-null   object \n",
      " 24  Seller_Type              4638 non-null   object \n",
      " 25  Age                      4700 non-null   float64\n",
      "dtypes: float64(12), object(14)\n",
      "memory usage: 991.4+ KB\n",
      "None\n",
      "       Year   Make                      Model Condition    Price  \\\n",
      "0  0.694731  Honda              Ridgeline RTL       New  46370.0   \n",
      "2  0.694731  Honda          CR-V Hybrid Sport       New  34245.0   \n",
      "3  0.428897  Honda           Pilot TrailSport       New  46500.0   \n",
      "4  0.694731  Honda  CR-V Hybrid Sport Touring       New  40395.0   \n",
      "5  0.694731  Honda               Odyssey EX-L       New  42250.0   \n",
      "\n",
      "   Consumer_Rating  Consumer_Review_#           Exterior_Color Interior_Color  \\\n",
      "0         0.439441          -0.644077     Platinum White Pearl          Beige   \n",
      "2         0.244502           0.798461  Meteorite Gray Metallic          Black   \n",
      "3         0.829317          -0.642564         Sonic Gray Pearl          Black   \n",
      "4        -0.340312          -0.642564      Crystal Black Pearl          Black   \n",
      "5        -0.340312          -0.642564  Pacific Pewter Metallic          Mocha   \n",
      "\n",
      "          Drivetrain  ...   Mileage Comfort_Rating Interior_Design_Rating  \\\n",
      "0    All-wheel Drive  ... -0.654554       0.725532               0.195881   \n",
      "2  Front-wheel Drive  ... -0.654793       0.725532              -3.700500   \n",
      "3    All-wheel Drive  ... -0.654687       0.725532               0.628813   \n",
      "4    All-wheel Drive  ... -0.654687       0.725532              -3.700500   \n",
      "5  Front-wheel Drive  ... -0.654687       0.725532               0.628813   \n",
      "\n",
      "  Performance_Rating Value_For_Money_Rating Exterior_Styling_Rating  \\\n",
      "0           0.384894              -1.053949                0.873030   \n",
      "2          -1.940795              -1.601398                0.873030   \n",
      "3           0.966316               1.135847                0.873030   \n",
      "4          -1.940795              -1.601398                0.873030   \n",
      "5          -1.940795              -1.601398               -2.391107   \n",
      "\n",
      "   Reliability_Rating  State  Seller_Type       Age  \n",
      "0            0.723811     CA       Dealer -0.694731  \n",
      "2            0.723811     CA       Dealer -0.694731  \n",
      "3            0.723811     CA       Dealer -0.428897  \n",
      "4            0.723811     CA       Dealer -0.694731  \n",
      "5            0.723811     CA       Dealer -0.694731  \n",
      "\n",
      "[5 rows x 26 columns]\n"
     ]
    }
   ],
   "source": [
    "# Import StandardScaler from scikit-learn\n",
    "from sklearn.preprocessing import StandardScaler\n",
    "\n",
    "# Define columns to be scaled\n",
    "cols_to_scale = ['Year', 'Consumer_Rating', 'Consumer_Review_#', 'Mileage', 'Comfort_Rating', 'Interior_Design_Rating', 'Performance_Rating', 'Value_For_Money_Rating', 'Exterior_Styling_Rating', 'Reliability_Rating', 'Age']\n",
    "\n",
    "# Create StandardScaler object\n",
    "scaler = StandardScaler()\n",
    "\n",
    "# Fit scaler to data\n",
    "scaler.fit(data[cols_to_scale])\n",
    "\n",
    "# Transform data using scaler\n",
    "data[cols_to_scale] = scaler.transform(data[cols_to_scale])\n",
    "\n",
    "# Show updated data information\n",
    "print(data.info())\n",
    "\n",
    "# Show updated first few rows of data\n",
    "print(data.head()) \n"
   ]
  },
  {
   "cell_type": "markdown",
   "id": "eb07321a",
   "metadata": {},
   "source": [
    "Feature Scaling by one-hot encoder for object columns."
   ]
  },
  {
   "cell_type": "code",
   "execution_count": 21,
   "id": "bd5dd90b",
   "metadata": {
    "scrolled": true
   },
   "outputs": [
    {
     "name": "stdout",
     "output_type": "stream",
     "text": [
      "<class 'pandas.core.frame.DataFrame'>\n",
      "Int64Index: 4700 entries, 0 to 4998\n",
      "Columns: 704 entries, Year to Seller_Type_Dealer\n",
      "dtypes: float64(12), object(2), uint8(690)\n",
      "memory usage: 3.6+ MB\n",
      "None\n",
      "       Year    Price  Consumer_Rating  Consumer_Review_#                VIN  \\\n",
      "0  0.694731  46370.0         0.439441          -0.644077  5FPYK3F58PB011817   \n",
      "2  0.694731  34245.0         0.244502           0.798461  2HKRS5H55PH704805   \n",
      "3  0.428897  46500.0         0.829317          -0.642564  5FNYF6H82NB100429   \n",
      "4  0.694731  40395.0        -0.340312          -0.642564  2HKRS6H90PH805954   \n",
      "5  0.694731  42250.0        -0.340312          -0.642564  5FNRL6H67PB024270   \n",
      "\n",
      "    Stock_#   Mileage  Comfort_Rating  Interior_Design_Rating  \\\n",
      "0  00830164 -0.654554        0.725532                0.195881   \n",
      "2  PH704805 -0.654793        0.725532               -3.700500   \n",
      "3  5700429B -0.654687        0.725532                0.628813   \n",
      "4   5705954 -0.654687        0.725532               -3.700500   \n",
      "5   5724270 -0.654687        0.725532                0.628813   \n",
      "\n",
      "   Performance_Rating  ...  State_TN  State_TX  State_UT  State_VA  State_VT  \\\n",
      "0            0.384894  ...         0         0         0         0         0   \n",
      "2           -1.940795  ...         0         0         0         0         0   \n",
      "3            0.966316  ...         0         0         0         0         0   \n",
      "4           -1.940795  ...         0         0         0         0         0   \n",
      "5           -1.940795  ...         0         0         0         0         0   \n",
      "\n",
      "   State_WA  State_WI  State_WV  State_WY  Seller_Type_Dealer  \n",
      "0         0         0         0         0                   1  \n",
      "2         0         0         0         0                   1  \n",
      "3         0         0         0         0                   1  \n",
      "4         0         0         0         0                   1  \n",
      "5         0         0         0         0                   1  \n",
      "\n",
      "[5 rows x 704 columns]\n"
     ]
    }
   ],
   "source": [
    "# Apply one-hot encoding to object columns\n",
    "data = pd.get_dummies(data, columns=['Make', 'Model', 'Condition', 'Exterior_Color', 'Interior_Color', 'Drivetrain', 'MPG', 'Fuel_Type', 'Transmission', 'Engine', 'State', 'Seller_Type'])\n",
    "\n",
    "# Show updated data information\n",
    "print(data.info())\n",
    "\n",
    "# Show updated first few rows of data\n",
    "print(data.head()) \n"
   ]
  },
  {
   "cell_type": "code",
   "execution_count": null,
   "id": "b9b6b549",
   "metadata": {},
   "outputs": [],
   "source": []
  }
 ],
 "metadata": {
  "kernelspec": {
   "display_name": "Python 3 (ipykernel)",
   "language": "python",
   "name": "python3"
  },
  "language_info": {
   "codemirror_mode": {
    "name": "ipython",
    "version": 3
   },
   "file_extension": ".py",
   "mimetype": "text/x-python",
   "name": "python",
   "nbconvert_exporter": "python",
   "pygments_lexer": "ipython3",
   "version": "3.8.0"
  }
 },
 "nbformat": 4,
 "nbformat_minor": 5
}
